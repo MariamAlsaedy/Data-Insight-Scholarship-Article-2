{
  "nbformat": 4,
  "nbformat_minor": 0,
  "metadata": {
    "colab": {
      "name": "Character_Locator.ipynb",
      "provenance": []
    },
    "kernelspec": {
      "name": "python3",
      "display_name": "Python 3"
    },
    "language_info": {
      "name": "python"
    }
  },
  "cells": [
    {
      "cell_type": "code",
      "execution_count": 1,
      "metadata": {
        "id": "aghz2DVbVbVd"
      },
      "outputs": [],
      "source": [
        "def char_loc():\n",
        "  char_locations = []\n",
        "  string = input(\"Enter a string: \")\n",
        "  char   = input(\"Enter the character you want to locate: \")\n",
        "\n",
        "  for x in range(len(string)):\n",
        "    if string[x].lower() == char.lower():\n",
        "      char_locations.append(x)\n",
        "\n",
        "  print(char_locations) "
      ]
    },
    {
      "cell_type": "code",
      "source": [
        "char_loc()"
      ],
      "metadata": {
        "colab": {
          "base_uri": "https://localhost:8080/"
        },
        "id": "ZyMy3_RSVhUX",
        "outputId": "729647e4-2316-4885-c3cc-5434286dc04a"
      },
      "execution_count": 2,
      "outputs": [
        {
          "output_type": "stream",
          "name": "stdout",
          "text": [
            "Enter a string: Mariam Ahmed\n",
            "Enter the character you want to locate: a\n",
            "[1, 4, 7]\n"
          ]
        }
      ]
    },
    {
      "cell_type": "code",
      "source": [
        ""
      ],
      "metadata": {
        "id": "n13Uvfs1VoYq"
      },
      "execution_count": null,
      "outputs": []
    }
  ]
}
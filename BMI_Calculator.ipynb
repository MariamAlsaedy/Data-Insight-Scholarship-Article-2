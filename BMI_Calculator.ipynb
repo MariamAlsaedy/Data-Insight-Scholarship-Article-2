{
  "nbformat": 4,
  "nbformat_minor": 0,
  "metadata": {
    "colab": {
      "name": "BMI_Calculator.ipynb",
      "provenance": [],
      "collapsed_sections": []
    },
    "kernelspec": {
      "name": "python3",
      "display_name": "Python 3"
    },
    "language_info": {
      "name": "python"
    }
  },
  "cells": [
    {
      "cell_type": "code",
      "execution_count": 8,
      "metadata": {
        "colab": {
          "base_uri": "https://localhost:8080/"
        },
        "id": "AJfUYcGhX15d",
        "outputId": "a2b5d43f-ba18-4cb0-8694-768644e584c4"
      },
      "outputs": [
        {
          "name": "stdout",
          "output_type": "stream",
          "text": [
            "Enter your height in cm: 160\n",
            "Enter your weight in kg: 55\n"
          ]
        }
      ],
      "source": [
        "height = float(input(\"Enter your height in cm: \"))\n",
        "weight = float(input(\"Enter your weight in kg: \"))"
      ]
    },
    {
      "cell_type": "code",
      "source": [
        "BMI = weight / (height/100)**2\n",
        "\n",
        "print(f\"Your BMI is {BMI}\")\n",
        "\n",
        "if BMI <= 18.4:\n",
        "    print(\"You are underweight !\")\n",
        "elif BMI <= 24.9:\n",
        "    print(\"You are healthy :)\")\n",
        "elif BMI <= 29.9:\n",
        "    print(\"You are over weight !\")\n",
        "elif BMI <= 34.9:\n",
        "    print(\"You have obesity class 1 !\")\n",
        "elif BMI <= 39.9:\n",
        "    print(\"You have obesity class 2 !\")\n",
        "else:\n",
        "    print(\"You have obesity class 3 !\")"
      ],
      "metadata": {
        "colab": {
          "base_uri": "https://localhost:8080/"
        },
        "id": "xePUM9mkX5X2",
        "outputId": "c967b7ff-6241-47c2-caa4-ab0d8e8cda04"
      },
      "execution_count": 9,
      "outputs": [
        {
          "output_type": "stream",
          "name": "stdout",
          "text": [
            "Your BMI is 21.484374999999996\n",
            "You are healthy :)\n"
          ]
        }
      ]
    },
    {
      "cell_type": "code",
      "source": [
        ""
      ],
      "metadata": {
        "id": "0QndhP3UYlN-"
      },
      "execution_count": null,
      "outputs": []
    }
  ]
}